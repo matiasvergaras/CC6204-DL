{
  "nbformat": 4,
  "nbformat_minor": 0,
  "metadata": {
    "accelerator": "GPU",
    "colab": {
      "name": "TAREA3DL-Matías_Vergara-ENTREGADA",
      "provenance": [],
      "collapsed_sections": []
    },
    "kernelspec": {
      "display_name": "Python 3",
      "language": "python",
      "name": "python3"
    },
    "language_info": {
      "codemirror_mode": {
        "name": "ipython",
        "version": 3
      },
      "file_extension": ".py",
      "mimetype": "text/x-python",
      "name": "python",
      "nbconvert_exporter": "python",
      "pygments_lexer": "ipython3",
      "version": "3.6.8"
    }
  },
  "cells": [
    {
      "cell_type": "markdown",
      "metadata": {
        "id": "vEJLFL-H5axT"
      },
      "source": [
        "# Tarea 3: Regularización y Optimización <br/> CC6204 Deep Learning, Universidad de Chile  <br/> Hoja de respuestas\n",
        "## Nombre: Matias Vergara Silva\n",
        "\n",
        "**Fecha de entrega: 13 de noviembre de 2020**\n"
      ]
    },
    {
      "cell_type": "code",
      "metadata": {
        "id": "meXCuozpe5P-"
      },
      "source": [
        "# Preliminar: Cargamos funciones de la Pauta de la Tarea 2.\n",
        "# Los gradientes se pueden implementar como parte de cada una de las funciones de activación\n",
        "# En el caso de swish y celu devuelven una tupla (d_dx, d_dp)\n",
        "\n",
        "def sig(T, gradient=False):\n",
        "  if gradient:\n",
        "    sigT = sig(T)\n",
        "    return sigT * (1 - sigT)\n",
        "  return torch.reciprocal(1 + torch.exp(-1 * T))\n",
        "  \n",
        "def tanh(T, gradient=False):\n",
        "  if gradient:\n",
        "    tanhT = tanh(T)\n",
        "    return 1 - tanhT * tanhT\n",
        "  E = torch.exp(T)\n",
        "  e = torch.exp(-1 * T)\n",
        "  return (E - e) * torch.reciprocal(E + e)\n",
        "\n",
        "def relu(T, gradient=False):\n",
        "  if gradient:\n",
        "    outT = torch.zeros_like(T)\n",
        "    outT[T>=0] = 1\n",
        "    return outT\n",
        "  return torch.max(T, torch.zeros_like(T))\n",
        "\n",
        "def swish(T, beta=1, gradient=False):\n",
        "  if gradient:\n",
        "    sigbT = sig(beta * T)\n",
        "    swishT = T * sigbT\n",
        "    return sigbT + beta * swishT * (1 - sigbT), swishT * (T - swishT)\n",
        "  return T * torch.reciprocal(1 + torch.exp(-beta * T))\n",
        "\n",
        "def celu(T, alpha=1, gradient=False):\n",
        "  if alpha == 0:\n",
        "    raise ValueError(\"alpha cannot be 0\")\n",
        "\n",
        "  zeros = torch.zeros_like(T)\n",
        "  Talpha = T / alpha\n",
        "  \n",
        "  if gradient:\n",
        "    e = Talpha.exp()\n",
        "    d_dx = torch.ones_like(T)\n",
        "    d_dx[T<0] = e[T<0]\n",
        "    zeros[T<0] = (celu(T)[T<0] - T[T<0] * e[T<0]) / alpha\n",
        "    return d_dx, zeros # d_dx, d_da\n",
        "  \n",
        "  return torch.max(zeros, T) + torch.min(zeros, alpha * (Talpha).expm1())\n",
        "\n",
        "def softmax(T, dim, estable=True):\n",
        "  if estable:\n",
        "    T -= T.max(dim=dim, keepdim=True)[0]  # keepdim=True => output has dim with size 1. Otherwise, dim is squeezed\n",
        "  exp = torch.exp(T)\n",
        "  return exp / torch.sum(exp, dim=dim, keepdim=True)  # keepdim=True => output has dim with size 1. Otherwise, dim is squeezed\n",
        "\n",
        "# Preliminar: Traemos CELoss de la Pauta de la T2\n",
        "def CELoss(Q, P, estable=True, epsilon=1e-8):\n",
        "  N = Q.shape[0]\n",
        "  if estable:\n",
        "    Q = Q.clamp(epsilon, 1-epsilon)\n",
        "  return -(P * Q.log()).sum()/N"
      ],
      "execution_count": 33,
      "outputs": []
    },
    {
      "cell_type": "code",
      "metadata": {
        "colab": {
          "base_uri": "https://localhost:8080/",
          "height": 525
        },
        "id": "54d9w9Y7XXmc",
        "outputId": "796cb4e4-73ec-4bf6-81a4-7c14ad4cc2d9"
      },
      "source": [
        "# Este notebook está pensado para correr en CoLaboratory. \n",
        "# Lo único imprescindible por importar es torch\n",
        "import torch\n",
        "\n",
        "# Posiblemenete quieras instalar e importar ipdb para debuggear.\n",
        "# Si es así, descomenta lo siguiente:\n",
        "# !pip install -q ipdb\n",
        "# import ipdb\n",
        "\n",
        "# Aqui instalamos la libreria de correccion del curso\n",
        "!pip install -U \"git+https://github.com/dccuchile/CC6204.git@master#egg=cc6204&subdirectory=autocorrect\"\n",
        "from timeit import default_timer as timer"
      ],
      "execution_count": 34,
      "outputs": [
        {
          "output_type": "stream",
          "text": [
            "Collecting cc6204\n",
            "  Cloning https://github.com/dccuchile/CC6204.git (to revision master) to /tmp/pip-install-zlc4qe66/cc6204\n",
            "  Running command git clone -q https://github.com/dccuchile/CC6204.git /tmp/pip-install-zlc4qe66/cc6204\n",
            "Requirement already satisfied, skipping upgrade: requests in /usr/local/lib/python3.6/dist-packages (from cc6204) (2.23.0)\n",
            "Requirement already satisfied, skipping upgrade: numpy in /usr/local/lib/python3.6/dist-packages (from cc6204) (1.18.5)\n",
            "Requirement already satisfied, skipping upgrade: torch in /usr/local/lib/python3.6/dist-packages (from cc6204) (1.7.0+cu101)\n",
            "Requirement already satisfied, skipping upgrade: urllib3!=1.25.0,!=1.25.1,<1.26,>=1.21.1 in /usr/local/lib/python3.6/dist-packages (from requests->cc6204) (1.24.3)\n",
            "Requirement already satisfied, skipping upgrade: idna<3,>=2.5 in /usr/local/lib/python3.6/dist-packages (from requests->cc6204) (2.10)\n",
            "Requirement already satisfied, skipping upgrade: chardet<4,>=3.0.2 in /usr/local/lib/python3.6/dist-packages (from requests->cc6204) (3.0.4)\n",
            "Requirement already satisfied, skipping upgrade: certifi>=2017.4.17 in /usr/local/lib/python3.6/dist-packages (from requests->cc6204) (2020.11.8)\n",
            "Requirement already satisfied, skipping upgrade: typing-extensions in /usr/local/lib/python3.6/dist-packages (from torch->cc6204) (3.7.4.3)\n",
            "Requirement already satisfied, skipping upgrade: future in /usr/local/lib/python3.6/dist-packages (from torch->cc6204) (0.16.0)\n",
            "Requirement already satisfied, skipping upgrade: dataclasses in /usr/local/lib/python3.6/dist-packages (from torch->cc6204) (0.8)\n",
            "Building wheels for collected packages: cc6204\n",
            "  Building wheel for cc6204 (setup.py) ... \u001b[?25l\u001b[?25hdone\n",
            "  Created wheel for cc6204: filename=cc6204-0.5.0-cp36-none-any.whl size=5801 sha256=b0886743aec8048c2f166bb7de777f95ccd31d266a8af73c74236fd28bd4c6ce\n",
            "  Stored in directory: /tmp/pip-ephem-wheel-cache-4tkxweyl/wheels/62/f0/30/aadcb7ce24a2f9c935890518e902d4e23bf97b80f47bb64414\n",
            "Successfully built cc6204\n",
            "Installing collected packages: cc6204\n",
            "  Found existing installation: cc6204 0.5.0\n",
            "    Uninstalling cc6204-0.5.0:\n",
            "      Successfully uninstalled cc6204-0.5.0\n",
            "Successfully installed cc6204-0.5.0\n"
          ],
          "name": "stdout"
        },
        {
          "output_type": "display_data",
          "data": {
            "application/vnd.colab-display-data+json": {
              "pip_warning": {
                "packages": [
                  "cc6204"
                ]
              }
            }
          },
          "metadata": {
            "tags": []
          }
        }
      ]
    },
    {
      "cell_type": "code",
      "metadata": {
        "colab": {
          "base_uri": "https://localhost:8080/"
        },
        "id": "xDYIQbJuXY9U",
        "outputId": "55597cd1-ac26-4d99-8c45-4a8adfe27f71"
      },
      "source": [
        "# importamos las herramientas del curso\n",
        "from cc6204 import AutoCorrect, FailedTest\n",
        "\n",
        "# ingresa el host y port que posteamos en u-cursos\n",
        "corrector = AutoCorrect(host=\"cc6204.dcc.uchile.cl\", port=443)\n",
        "\n",
        "# anota el token que te daremos en u-cursos\n",
        "token = \"]ye/Ox;nsz\""
      ],
      "execution_count": 35,
      "outputs": [
        {
          "output_type": "stream",
          "text": [
            "Connection stablished\n"
          ],
          "name": "stdout"
        }
      ]
    },
    {
      "cell_type": "markdown",
      "metadata": {
        "id": "fg8i3agyXDSr"
      },
      "source": [
        "# Parte 1: Regularización y Generalización\n",
        "\n"
      ]
    },
    {
      "cell_type": "markdown",
      "metadata": {
        "id": "NbzcMAkOXDSr"
      },
      "source": [
        "## 1a) Regularización por *weight decay*"
      ]
    },
    {
      "cell_type": "code",
      "metadata": {
        "id": "6QfQVggvNuv9"
      },
      "source": [
        "class SGD():\n",
        "  def __init__(self, parameters, lr, beta=0):\n",
        "    self.params = [p for p in parameters if p is not None]\n",
        "    self.lr = lr\n",
        "    self.beta = beta\n",
        "\n",
        "  \n",
        "  def step(self):\n",
        "    for i in range(0, len(self.params)):\n",
        "      if self.params[i].dim()>1:\n",
        "        self.params[i].data = (1 - self.beta)*self.params[i].data - (self.lr * self.params[i].grad)\n",
        "      else:\n",
        "        self.params[i].data -= self.params[i].grad * self.lr"
      ],
      "execution_count": 36,
      "outputs": []
    },
    {
      "cell_type": "code",
      "metadata": {
        "colab": {
          "base_uri": "https://localhost:8080/"
        },
        "id": "jJMKrtjZcXDH",
        "outputId": "a245c4de-9b2a-4ede-be6e-24c0b3b26d4d"
      },
      "source": [
        "# Tests del API del curso\n",
        "weight, grad = corrector.get_test_data(homework=3, question=\"1a\", test=1, token=token)\n",
        "\n",
        "weight = torch.tensor(weight, requires_grad=True)\n",
        "weight.grad = torch.tensor(grad)\n",
        "\n",
        "optimizer = SGD([weight], lr=0.1, beta=0.1)\n",
        "optimizer.step()\n",
        "\n",
        "# Submit\n",
        "corrector.submit(homework=3, question=\"1a\", test=1, token=token, answer=weight)"
      ],
      "execution_count": 37,
      "outputs": [
        {
          "output_type": "stream",
          "text": [
            "Correct Test!\n"
          ],
          "name": "stdout"
        }
      ]
    },
    {
      "cell_type": "markdown",
      "metadata": {
        "id": "ifPp_c1eXDSt"
      },
      "source": [
        "## 1b) Regularización por dropout"
      ]
    },
    {
      "cell_type": "markdown",
      "metadata": {
        "id": "InfEB_1uPfcA"
      },
      "source": [
        "Para esta parte de la tarea, va a ser necesario modificar el método `forward` para que entregue el valor a la salida de la i-esima capa escondida. Para esto se modifica el método forward para que reciba un parámetro `output_layer` que indica luego de que capa escondida se espera el output."
      ]
    },
    {
      "cell_type": "code",
      "metadata": {
        "id": "w4wXj3AUXDSu"
      },
      "source": [
        "# Tu código debiera continuar como sigue\n",
        "import torch.nn as nn\n",
        "from torch.nn import Parameter, ParameterList\n",
        "import math\n",
        "\n",
        "\n",
        "def get_init_weights(shape):\n",
        "  W = torch.randn(shape)\n",
        "  # stdv = 1. / math.sqrt(W.size(1))\n",
        "  # W.data.uniform_(-stdv, stdv)\n",
        "  return Parameter(W)\n",
        "\n",
        "\n",
        "def xavier_init(first_dim, second_dim, r=None):\n",
        "  ones = torch.ones((first_dim, second_dim))\n",
        "  zeros = torch.zeros((first_dim, second_dim))\n",
        "  dim1 = ones * first_dim\n",
        "  if r == None:\n",
        "    W = torch.normal(mean = zeros, std = ones)\n",
        "    W = W * torch.sqrt(torch.reciprocal(dim1))\n",
        "    return W\n",
        "  return r*torch.sqrt(torch.reciprocal(dim1))\n",
        "\n",
        "\n",
        "def he_init(first_dim, second_dim, r=None):\n",
        "  ones = torch.ones((first_dim, second_dim))\n",
        "  twos = 2 * ones\n",
        "  zeros = torch.zeros((first_dim, second_dim))\n",
        "  dim1 = ones * first_dim\n",
        "  if r == None:\n",
        "    W = torch.normal(mean = zeros, std = ones)\n",
        "    W = W * torch.sqrt(twos * torch.reciprocal(dim1))\n",
        "    return W\n",
        "  return r * torch.sqrt(twos * torch.reciprocal(dim1))\n",
        "\n",
        "class FFNN(nn.Module):\n",
        "  def __init__(self, F, l_h, l_a, C, l_a_params=None, keep_prob=None, init = None):\n",
        "    super(FFNN, self).__init__()\n",
        "    sizes = [F] + l_h + [C]\n",
        "    if init == None:\n",
        "      self.Ws = ParameterList([get_init_weights((sizes[i], sizes[i+1])) for i in range(len(sizes)-1)])\n",
        "    elif init == 'xavier':\n",
        "      self.Ws = ParameterList([])\n",
        "      self.Ws.append(Parameter(xavier_init(sizes[0], sizes[1])))\n",
        "      for i in range(1, len(sizes)-1):\n",
        "        if l_a[i-1]!=relu:\n",
        "          self.Ws.append(Parameter(xavier_init(sizes[i], sizes[i+1])))\n",
        "        else:\n",
        "          self.Ws.append(Parameter(he_init(sizes[i], sizes[i+1])))\n",
        "    self.bs = ParameterList([Parameter(torch.zeros(h)) for h in sizes[1:]])\n",
        "    self.fs = l_a\n",
        "    if l_a_params is not None:\n",
        "      self.fs_ps_mask = [Parameter(torch.tensor(p)) if p else None for p in l_a_params]\n",
        "    else:\n",
        "      self.fs_ps_mask = [None for _ in l_a]\n",
        "    self.fs_ps = ParameterList([p for p in self.fs_ps_mask if p])\n",
        "        # Lo unico 'nuevo' que necesitamos guardar es el parámetro keep_prob. \n",
        "    if keep_prob is not None:\n",
        "      self.keep_prob = [Parameter(torch.tensor(p)) if p else None for p in keep_prob]\n",
        "      if any(keep_prob) < 0 or any(keep_prob) > 1:\n",
        "            raise ValueError(\"Las probabilidades de dropout, keep_prob, deben estar entre\\\n",
        "                              0 y 1, pero se leyó{} .\".format(keep_prob))   \n",
        "\n",
        "\n",
        "  \n",
        "  def forward(self, x, predict=False, output_layer=None):    \n",
        "    self.masks = []\n",
        "    self.cacheU = [] \n",
        "    if predict:\n",
        "      self.keep_prob=[]\n",
        "      for i in range(0, len(self.fs)+1):\n",
        "        self.keep_prob.append(1.0)\n",
        "    count = 0\n",
        "    i_prob = 0\n",
        "    # Primera mascara: para la entrada\n",
        "    mask = torch.distributions.bernoulli.Bernoulli(probs=self.keep_prob[i_prob])\n",
        "    mask_sample = torch.squeeze(mask.sample(x.size()))\n",
        "    mask_sample_p = mask_sample * (torch.reciprocal(torch.ones_like(mask_sample)*self.keep_prob[i_prob]))\n",
        "    mask_sample_p = mask_sample_p.to(x.device)\n",
        "    self.masks.append(mask_sample_p)\n",
        "    # multiplicar por la capa de bits / probabilidad \n",
        "    #x = x * mask_sample_p\n",
        "    count += 1\n",
        "    i_prob += 1\n",
        "    \n",
        "    # Implementación de forward\n",
        "    for W, b, f, p in zip(self.Ws[:-1], self.bs[:-1], self.fs, self.fs_ps_mask):\n",
        "      x = torch.mm(x, W) + b\n",
        "      self.cacheU.append(x)\n",
        "      x = f(x, p.item()) if p else f(x)\n",
        "      #mascaras del ciclo\n",
        "      mask = torch.distributions.bernoulli.Bernoulli(probs=self.keep_prob[i_prob])\n",
        "      mask_sample = torch.squeeze(mask.sample(x.size()))\n",
        "      mask_sample_p = mask_sample * (torch.reciprocal(torch.ones_like(mask_sample)*self.keep_prob[i_prob]))\n",
        "      mask_sample_p = mask_sample_p.to(x.device)\n",
        "      self.masks.append(mask_sample_p)\n",
        "      # multiplicar por la capa de bits \n",
        "      x = x*mask_sample_p\n",
        "      i_prob += 1\n",
        "    if output_layer is not None:\n",
        "      if count == output_layer +1 :\n",
        "        return x\n",
        "      count+=1\n",
        "    output = softmax(torch.mm(x, self.Ws[-1]) + self.bs[-1], dim=1)\n",
        "    return output  \n",
        "  \n",
        "  def backward(self, x, y, y_pred):\n",
        "    current_grad = ((y_pred-y)/y.size(0))    \n",
        "\n",
        "    for i in range(len(self.Ws)-1, 0, -1):\n",
        "      if self.fs_ps_mask[i-1] is None:\n",
        "        self.Ws[i].grad = self.fs[i-1](self.cacheU[i-1]).t() @ current_grad\n",
        "\n",
        "      else:\n",
        "        self.Ws[i].grad = self.fs[i-1](self.cacheU[i-1], self.fs_ps_mask[i-1].item()).t()  @ current_grad\n",
        "      self.bs[i].grad = current_grad.sum(dim=0)\n",
        "      h_grad = current_grad @ self.Ws[i].t()\n",
        "      # MODIFICADO PARA CONSIDERAR LA MASCARA BINOMIAL CORRESPONDIENTE\n",
        "      factor = self.masks[i]\n",
        "      factor = factor.to(h_grad.device)\n",
        "      h_grad = h_grad * factor\n",
        "      \n",
        "      if self.fs_ps_mask[i-1] is None:\n",
        "        current_grad = self.fs[i-1](self.cacheU[i-1], gradient=True) * h_grad\n",
        "\n",
        "      else:\n",
        "        current_grad, p_grad = self.fs[i-1](self.cacheU[i-1], self.fs_ps_mask[i-1], gradient=True)\n",
        "        current_grad *= h_grad \n",
        "        self.fs_ps_mask[i-1].grad = (p_grad * h_grad).sum()\n",
        "    \n",
        "    self.Ws[0].grad = x.t() @ current_grad\n",
        "    self.bs[0].grad = current_grad.sum(dim=0)"
      ],
      "execution_count": 38,
      "outputs": []
    },
    {
      "cell_type": "code",
      "metadata": {
        "colab": {
          "base_uri": "https://localhost:8080/"
        },
        "id": "qrjGpVdg4xi1",
        "outputId": "56b616cc-2f72-479a-e89b-609fb79624a0"
      },
      "source": [
        "# Tests del API del curso\n",
        "torch.manual_seed(0)\n",
        "sample = torch.rand(1, 10)\n",
        "red = FFNN(10, [1000], [sig], 1, keep_prob=[1.0, 0.5])\n",
        "y = red(sample, output_layer=0)\n",
        "output_mask = (y == 0)\n",
        "percent = torch.sum(output_mask).item() / list(output_mask.size())[-1]\n",
        "print(\"Percent init=None: \", percent)\n",
        "# Submit\n",
        "corrector.submit(homework=3, question=\"1b\", test=1, token=token, answer=percent)\n",
        "\n",
        "#probando los otros iniciadores\n",
        "red == FFNN(10, [1000], [sig], 1, keep_prob=[1.0, 0.5], init='xavier')\n",
        "y = red(sample, output_layer=0)\n",
        "output_mask = (y == 0)\n",
        "percent = torch.sum(output_mask).item() / list(output_mask.size())[-1]\n",
        "print(\"Percent init=xavier: \", percent)\n",
        "# Submit\n",
        "corrector.submit(homework=3, question=\"1b\", test=1, token=token, answer=percent)"
      ],
      "execution_count": 39,
      "outputs": [
        {
          "output_type": "stream",
          "text": [
            "/usr/local/lib/python3.6/dist-packages/torch/nn/modules/container.py:434: UserWarning: Setting attributes on ParameterList is not supported.\n",
            "  warnings.warn(\"Setting attributes on ParameterList is not supported.\")\n"
          ],
          "name": "stderr"
        },
        {
          "output_type": "stream",
          "text": [
            "Percent init=None:  0.528\n",
            "Correct Test!\n",
            "Percent init=xavier:  0.508\n",
            "Correct Test!\n"
          ],
          "name": "stdout"
        }
      ]
    },
    {
      "cell_type": "markdown",
      "metadata": {
        "id": "rlLnZM7hi0C2"
      },
      "source": [
        "## 1c) Entrenamiento y generalización sobre MNIST "
      ]
    },
    {
      "cell_type": "code",
      "metadata": {
        "colab": {
          "base_uri": "https://localhost:8080/"
        },
        "id": "pZXEKVzHx_3G",
        "outputId": "97329d7f-b21f-4bf7-8615-baf9f592f3d3"
      },
      "source": [
        "# Importamos MNIST desde torchvision.\n",
        "from torchvision.datasets import MNIST\n",
        "\n",
        "# Importamos una función para convertir imágenes en tensores.\n",
        "from torchvision.transforms import ToTensor\n",
        "\n",
        "# Descarga y almacena el conjunto de prueba de MNIST.\n",
        "mnist_train_dataset = MNIST('mnist', train=True, transform=ToTensor(), download=True)\n",
        "mnist_test_dataset = MNIST('mnist', train=False, transform=ToTensor(), download=True)\n",
        "print('Cantidad total de datos de entrenamiento:',len(mnist_train_dataset))\n",
        "print('Cantidad total de datos de prueba:',len(mnist_test_dataset))\n",
        "\n",
        "import sys"
      ],
      "execution_count": 40,
      "outputs": [
        {
          "output_type": "stream",
          "text": [
            "Cantidad total de datos de entrenamiento: 60000\n",
            "Cantidad total de datos de prueba: 10000\n"
          ],
          "name": "stdout"
        }
      ]
    },
    {
      "cell_type": "code",
      "metadata": {
        "id": "7Qj1GI81izYt"
      },
      "source": [
        "# odigo para entrenar en MNIST\n",
        "# Codigo modificado a partir de la pauta Tarea 2\n",
        "def entrenar_FFNN(red, dataset, optimizador, epochs=1, batch_size=1, reports_every=1, device='cpu'):\n",
        "  red.to(device)\n",
        "  data = DataLoader(dataset, batch_size, shuffle=True)\n",
        "  total=len(dataset)\n",
        "  tiempo_epochs = 0\n",
        "  loss, acc = [], []\n",
        "  for e in range(1,epochs+1):  \n",
        "    inicio_epoch = timer()\n",
        "    \n",
        "    for x, y in data:\n",
        "      x, y = x.view(x.size(0), -1).float().to(device), y.to(device)\n",
        "      \n",
        "      y_pred = red.forward(x, predict = False)\n",
        "      y_onehot = torch.zeros_like(y_pred)\n",
        "      y_onehot[torch.arange(x.size(0)), y] = 1.\n",
        "\n",
        "      red.backward(x, y_onehot, y_pred)\n",
        "      \n",
        "      optimizador.step()\n",
        "    \n",
        "    tiempo_epochs += timer() - inicio_epoch\n",
        "    \n",
        "    \n",
        "    if e % reports_every == 0:\n",
        "      X = dataset.data.view(len(dataset), -1).float().to(device)\n",
        "      Y = dataset.targets.to(device)\n",
        "      \n",
        "      Y_PRED = red.forward(X, predict = True).to(device)\n",
        "      \n",
        "      Y_onehot = torch.zeros_like(Y_PRED)\n",
        "      Y_onehot[torch.arange(X.size(0)), Y] = 1.\n",
        "\n",
        "      L_total = CELoss(Y_PRED, Y_onehot)\n",
        "      loss.append(L_total)\n",
        "      diff = Y-torch.argmax(Y_PRED,1)\n",
        "      errores = torch.nonzero(diff).size(0)\n",
        "      \n",
        "      Acc=100*(total-errores)/total\n",
        "      acc.append(Acc)\n",
        "\n",
        "      sys.stdout.write(\n",
        "            '\\rEpoch:{0:03d}'.format(e) + ' Acc:{0:.2f}%'.format(Acc)\n",
        "            + ' Loss:{0:.4f}'.format(L_total) \n",
        "            + ' Tiempo/epoch:{0:.3f}s'.format(tiempo_epochs/e))\n",
        "  \n",
        "  return loss, acc\n"
      ],
      "execution_count": 6,
      "outputs": []
    },
    {
      "cell_type": "code",
      "metadata": {
        "id": "gggPuNofycL6"
      },
      "source": [
        "# Código de la Tarea 2 para graficar los resultados. \n",
        "# Lo modificamos para comparar el resultado con y sin weight decay.\n",
        "\n",
        "import matplotlib.pyplot as plt\n",
        "\n",
        "def plot_results_mod(id1, id2, loss1, loss2, acc1,  acc2):\n",
        "  f3 = plt.figure(id1)\n",
        "  ax1 = f3.add_subplot(111)\n",
        "  ax1.set_title(\"Loss Comparation\")    \n",
        "  ax1.set_xlabel('epochs')\n",
        "  ax1.set_ylabel('loss')\n",
        "  ax1.plot(loss1, c='r', label=\"Without Weight Decay\")\n",
        "  ax1.plot(loss2, c='b', label=\"With Weight Decay\")\n",
        "  ax1.legend()\n",
        "  \n",
        "  f3.show()\n",
        "\n",
        "  f4 = plt.figure(id2)\n",
        "  ax2 = f4.add_subplot(111)\n",
        "  ax2.set_title(\"Accuracy Comparation\")     \n",
        "  ax2.set_xlabel('epochs')\n",
        "  ax2.set_ylabel('acc')\n",
        "  ax2.plot(acc1, c='r', label=\"Without Weight Decay\")\n",
        "  ax2.plot(acc2, c='b', label=\"Whit Weight Decay \")\n",
        "  ax2.legend()\n",
        "  f4.show()\n"
      ],
      "execution_count": 7,
      "outputs": []
    },
    {
      "cell_type": "code",
      "metadata": {
        "id": "aiaXijYdeOJn"
      },
      "source": [
        "from torch.utils.data import Dataset, DataLoader\n",
        "from timeit import default_timer as timer"
      ],
      "execution_count": 14,
      "outputs": []
    },
    {
      "cell_type": "code",
      "metadata": {
        "colab": {
          "base_uri": "https://localhost:8080/"
        },
        "id": "7EwsU4MHyFsM",
        "outputId": "50b96cba-66ba-44e4-d3e4-b525ecc440ef"
      },
      "source": [
        "# Entrenamos nuestra red con MNIST \n",
        "# Probaremos con y sin weight decay, para poder evidenciar su influencia.\n",
        "\n",
        "mnist_model_a = FFNN(784, [1024, 2048, 512], [relu, relu, relu], 10, keep_prob=[1.0, 0.8, 0.8, 1.0])\n",
        "mnist_model_b = FFNN(784, [1024, 2048, 512], [relu, relu, relu], 10, keep_prob=[1.0, 0.8, 0.8, 1.0])\n",
        "\n",
        "mnist_optimizer_NOWD = SGD(mnist_model_a.parameters(), lr=1e-5 )\n",
        "mnist_optimizer_WD = SGD(mnist_model_b.parameters(), lr=1e-5, beta = 0.00001)\n",
        "\n",
        "with torch.no_grad():\n",
        "  #loss1, acc1 = entrenar_FFNN(mnist_model_a, mnist_train_dataset, mnist_optimizer_NOWD, epochs=30, batch_size=32, device='cuda', reports_every=3)\n",
        "  loss2, acc2 = entrenar_FFNN(mnist_model_b, mnist_train_dataset, mnist_optimizer_WD, epochs=30, batch_size=32, device='cuda', reports_every=3)\n"
      ],
      "execution_count": 18,
      "outputs": [
        {
          "output_type": "stream",
          "text": [
            "/usr/local/lib/python3.6/dist-packages/torch/nn/modules/container.py:434: UserWarning: Setting attributes on ParameterList is not supported.\n",
            "  warnings.warn(\"Setting attributes on ParameterList is not supported.\")\n"
          ],
          "name": "stderr"
        },
        {
          "output_type": "stream",
          "text": [
            "Epoch:030 Acc:98.03% Loss:0.3635 Tiempo/epoch:14.171s"
          ],
          "name": "stdout"
        }
      ]
    },
    {
      "cell_type": "code",
      "metadata": {
        "colab": {
          "base_uri": "https://localhost:8080/",
          "height": 573
        },
        "id": "HLy1Z9A4HBdl",
        "outputId": "810f1404-e29d-4700-8e51-9ed20697a792"
      },
      "source": [
        "plot_results_mod(1, 2, loss1, loss2,  acc1, acc2)"
      ],
      "execution_count": 19,
      "outputs": [
        {
          "output_type": "display_data",
          "data": {
            "image/png": "[encoded data removed]",
            "text/plain": [
              "<Figure size 432x288 with 1 Axes>"
            ]
          },
          "metadata": {
            "tags": [],
            "needs_background": "light"
          }
        },
        {
          "output_type": "display_data",
          "data": {
            "image/png": "[encoded data removed]",
            "text/plain": [
              "<Figure size 432x288 with 1 Axes>"
            ]
          },
          "metadata": {
            "tags": [],
            "needs_background": "light"
          }
        }
      ]
    },
    {
      "cell_type": "markdown",
      "metadata": {
        "id": "0SsDCVSH47w0"
      },
      "source": [
        "Observamos que el Weight Decay implementado empeora considerablemente las métricas en testing. \n",
        "\n",
        "(No logré graficar en training uwu la idea de esta parte era ver que el loss de validación y de training decaen juntos al usar weight-decay, en lugar de separarse tempranamente)."
      ]
    },
    {
      "cell_type": "markdown",
      "metadata": {
        "id": "EwedMCZjXDSw"
      },
      "source": [
        "# Parte 2: Optimización"
      ]
    },
    {
      "cell_type": "markdown",
      "metadata": {
        "id": "nftKKxlBXDSx"
      },
      "source": [
        "## 2a) Inicialización de Xavier/He"
      ]
    },
    {
      "cell_type": "markdown",
      "metadata": {
        "id": "yxEVEoeJTq81"
      },
      "source": [
        "Para los test de esta parte vamos a necesitar que modifiques tu código para que se pueda entregar valores predeterminados de `r`. Ahora tu código para las inicializaciones debe ser: `xavier_init(first_dim, second_dim, r=None)`, `he_init(first_dim, second_dim, r=None)`."
      ]
    },
    {
      "cell_type": "code",
      "metadata": {
        "id": "F7DHcaQDTimb"
      },
      "source": [
        "# Tu código debiera continuar como sigue\n",
        "\n",
        "def xavier_init(first_dim, second_dim, r=None):\n",
        "  ones = torch.ones((first_dim, second_dim))\n",
        "  zeros = torch.zeros((first_dim, second_dim))\n",
        "  dim1 = ones * first_dim\n",
        "  if r == None:\n",
        "    W = torch.normal(mean = zeros, std = ones)\n",
        "    W = W * torch.sqrt(torch.reciprocal(dim1))\n",
        "    return W\n",
        "  return r*torch.sqrt(torch.reciprocal(dim1))\n",
        "\n",
        "\n",
        "def he_init(first_dim, second_dim, r=None):\n",
        "  ones = torch.ones((first_dim, second_dim))\n",
        "  twos = 2 * ones\n",
        "  zeros = torch.zeros((first_dim, second_dim))\n",
        "  dim1 = ones * first_dim\n",
        "  if r == None:\n",
        "    W = torch.normal(mean = zeros, std = ones)\n",
        "    W = W * torch.sqrt(twos * torch.reciprocal(dim1))\n",
        "    return W\n",
        "  return r * torch.sqrt(twos * torch.reciprocal(dim1))"
      ],
      "execution_count": 41,
      "outputs": []
    },
    {
      "cell_type": "code",
      "metadata": {
        "colab": {
          "base_uri": "https://localhost:8080/"
        },
        "id": "7Rl25Jr5UAgv",
        "outputId": "2b792d45-8010-4aae-a7e1-9d3a01dd53b8"
      },
      "source": [
        "# Tests del API del curso\n",
        "r_xavier = corrector.get_test_data(homework=3, question=\"2a\", test=1, token=token)\n",
        "r_he = corrector.get_test_data(homework=3, question=\"2a\", test=2, token=token)\n",
        "\n",
        "w_xavier = xavier_init(50, 50, torch.tensor(r_xavier))\n",
        "w_he = he_init(50, 50, torch.tensor(r_he))\n",
        "\n",
        "corrector.submit(homework=3, question=\"2a\", test=1, token=token, answer=w_xavier)\n",
        "corrector.submit(homework=3, question=\"2a\", test=2, token=token, answer=w_he)"
      ],
      "execution_count": 42,
      "outputs": [
        {
          "output_type": "stream",
          "text": [
            "Correct Test!\n",
            "Correct Test!\n"
          ],
          "name": "stdout"
        }
      ]
    },
    {
      "cell_type": "markdown",
      "metadata": {
        "id": "Nzp5SWKBXDSy"
      },
      "source": [
        "## 2b) Descenso de gradiente con momentum"
      ]
    },
    {
      "cell_type": "code",
      "metadata": {
        "id": "whoBUewrUgWB"
      },
      "source": [
        "# Tu código debiera continuar así\n",
        "\n",
        "class SGD():\n",
        "  def __init__(self, parameters, lr, beta= 0, momentum=0.9):\n",
        "    self.params = [p for p in parameters if p is not None]\n",
        "    self.lr = lr\n",
        "    self.beta = beta\n",
        "    self.momentum = momentum\n",
        "    self.V = [torch.zeros_like(p) for p in self.params if p is not None]\n",
        "    \n",
        "\n",
        "  def step(self):\n",
        "    for i in range(0, len(self.params)):\n",
        "      if self.params[i].is_cuda:\n",
        "        self.V[i].data = self.V[i].data.to('cuda')\n",
        "      if self.momentum > 0:\n",
        "        if self.params[i].data.dim() >1:\n",
        "          self.V[i].data = self.momentum*self.V[i].data - self.lr*self.params[i].grad\n",
        "          self.params[i].data += self.V[i].data\n",
        "        else:\n",
        "          self.params[i].data -= self.params[i].grad * self.lr\n",
        "      else:\n",
        "        self.params[i].data -= self.params[i].grad * self.lr\n"
      ],
      "execution_count": 43,
      "outputs": []
    },
    {
      "cell_type": "code",
      "metadata": {
        "colab": {
          "base_uri": "https://localhost:8080/"
        },
        "id": "8WIcvmWUVl9r",
        "outputId": "6040ed73-93ce-43b0-e14a-22bac2b442fb"
      },
      "source": [
        "# Tests del API del curso\n",
        "weight, grad = corrector.get_test_data(homework=3, question=\"2b\", test=1, token=token)\n",
        "\n",
        "weight = torch.tensor(weight, requires_grad=True)\n",
        "weight.grad = torch.tensor(grad)\n",
        "\n",
        "# \n",
        "optimizer = SGD([weight], lr=0.1, momentum=0.9)\n",
        "optimizer.step()\n",
        "\n",
        "# Submit\n",
        "corrector.submit(homework=3, question=\"2b\", test=1, token=token, answer=weight)\n",
        "optimizer.step()\n",
        "corrector.submit(homework=3, question=\"2b\", test=2, token=token, answer=weight)"
      ],
      "execution_count": 44,
      "outputs": [
        {
          "output_type": "stream",
          "text": [
            "Correct Test!\n",
            "Correct Test!\n"
          ],
          "name": "stdout"
        }
      ]
    },
    {
      "cell_type": "markdown",
      "metadata": {
        "id": "1WNYoTIHXDS0"
      },
      "source": [
        "## 2c) RMSProp"
      ]
    },
    {
      "cell_type": "code",
      "metadata": {
        "id": "IjLGmGoXV_kG"
      },
      "source": [
        "# Tu código acá\n",
        "\n",
        "class RMSProp():\n",
        "  def __init__(self, parameters, lr=0.001, beta=0.9, epsilon=1e-8):\n",
        "    # en este caso debes inicializar la variable que acumula\n",
        "    # el promedio exponencial de los cuadrados\n",
        "    self.params = [p for p in parameters if p is not None]\n",
        "    self.S = [torch.zeros_like(p) for p in self.params if p is not None]\n",
        "    self.lr = lr\n",
        "    self.beta = beta\n",
        "    self.epsilon = epsilon\n",
        "\n",
        "  \n",
        "  def step(self):\n",
        "    # actualiza acá los parámetros a partir de los gradientes\n",
        "    # y la corrección según S\n",
        "    for i in range(0, len(self.params)):\n",
        "      if self.params[i].is_cuda:\n",
        "        self.S[i] = self.S[i].to('cuda')\n",
        "      if self.params[i].data.dim() >1:\n",
        "        self.S[i].data = self.beta * self.S[i].data + (1-self.beta)*(self.params[i].grad*self.params[i].grad)\n",
        "        self.params[i].data = self.params[i].data - self.lr*torch.reciprocal(torch.sqrt(self.S[i].data) + self.epsilon)*self.params[i].grad\n",
        "      else:\n",
        "        self.params[i].data -= self.params[i].grad * self.lr\n"
      ],
      "execution_count": 45,
      "outputs": []
    },
    {
      "cell_type": "code",
      "metadata": {
        "colab": {
          "base_uri": "https://localhost:8080/"
        },
        "id": "PNnw6obOWDC4",
        "outputId": "3cad6e58-c110-4eab-99fa-11604c41f660"
      },
      "source": [
        "# Tests del API del curso\n",
        "weight, grad = corrector.get_test_data(homework=3, question=\"2c\", test=1, token=token)\n",
        "\n",
        "weight = torch.tensor(weight, requires_grad=True)\n",
        "weight.grad = torch.tensor(grad)\n",
        "\n",
        "optimizer = RMSProp([weight], lr=0.001, beta=0.9, epsilon=1e-8)\n",
        "optimizer.step()\n",
        "\n",
        "# Submit\n",
        "corrector.submit(homework=3, question=\"2c\", test=1, token=token, answer=weight)\n",
        "optimizer.step()\n",
        "corrector.submit(homework=3, question=\"2c\", test=2, token=token, answer=weight)"
      ],
      "execution_count": 46,
      "outputs": [
        {
          "output_type": "stream",
          "text": [
            "Correct Test!\n",
            "Correct Test!\n"
          ],
          "name": "stdout"
        }
      ]
    },
    {
      "cell_type": "markdown",
      "metadata": {
        "id": "QJTTDpeTWTwY"
      },
      "source": [
        "## 2d) Adam"
      ]
    },
    {
      "cell_type": "code",
      "metadata": {
        "id": "ola7FuFdWZH6"
      },
      "source": [
        "# Tu código acá\n",
        "\n",
        "class Adam():\n",
        "  def __init__(self, parameters, lr=0.001, beta1=0.9, beta2=0.999, epsilon=1e-8):\n",
        "    # en este caso debes inicializar la variable que acumula\n",
        "    # el promedio exponencial de los cuadrados\n",
        "    self.params = [p for p in parameters if p is not None]\n",
        "    self.P = [torch.zeros_like(p) for p in self.params if p is not None]\n",
        "    self.S = [torch.zeros_like(p) for p in self.params if p is not None]\n",
        "    self.lr = lr\n",
        "    self.beta1 = beta1\n",
        "    self.beta2 = beta2\n",
        "    self.epsilon = epsilon\n",
        "    self.n = 1\n",
        "  \n",
        "  def step(self):\n",
        "    # actualiza acá los parámetros a partir de los gradientes\n",
        "    # y la corrección según S\n",
        "    for i in range(0, len(self.params)):\n",
        "      if self.params[i].is_cuda:\n",
        "        self.P[i] = self.P[i].to('cuda')\n",
        "        self.S[i] = self.S[i].to('cuda')\n",
        "      self.P[i].data = self.beta1*self.P[i].data +(1-self.beta1)*self.params[i].grad\n",
        "      self.S[i].data = self.beta2*self.S[i].data +(1-self.beta2)*(self.params[i].grad*self.params[i].grad)\n",
        "      temp_P = torch.div(self.P[i].data, 1-self.beta1**self.n)\n",
        "      temp_S = torch.div(self.S[i].data, 1-self.beta2**self.n)\n",
        "      self.n += 1\n",
        "      self.params[i].data = self.params[i].data - self.lr * torch.mul(torch.reciprocal(torch.sqrt(temp_S)+self.epsilon), temp_P)"
      ],
      "execution_count": 47,
      "outputs": []
    },
    {
      "cell_type": "code",
      "metadata": {
        "colab": {
          "base_uri": "https://localhost:8080/"
        },
        "id": "8OdCG4RjWeMJ",
        "outputId": "2ea0023c-7cd3-4f6f-9653-32e67d512d1f"
      },
      "source": [
        "# Tests del API del curso\n",
        "weight, grad = corrector.get_test_data(homework=3, question=\"2d\", test=1, token=token)\n",
        "\n",
        "weight = torch.tensor(weight, requires_grad=True)\n",
        "weight.grad = torch.tensor(grad)\n",
        "\n",
        "optimizer = Adam([weight], lr=0.001, beta1=0.9, beta2=0.999, epsilon=1e-8)\n",
        "optimizer.step()\n",
        "\n",
        "# Submit\n",
        "corrector.submit(homework=3, question=\"2d\", test=1, token=token, answer=weight)\n",
        "optimizer.step()\n",
        "corrector.submit_check_some(homework=3, question=\"2d\", tests=[2, 3], token=token,\n",
        "                            answer_dict={2: weight, 3: weight}, required_number=1)"
      ],
      "execution_count": 48,
      "outputs": [
        {
          "output_type": "stream",
          "text": [
            "Correct Test!\n",
            "Correct Test!\n"
          ],
          "name": "stdout"
        }
      ]
    },
    {
      "cell_type": "markdown",
      "metadata": {
        "id": "isKfnQt_Wszx"
      },
      "source": [
        "## 2e) Entrenamiento en MNIST \n",
        "\n",
        "Usa tu red neuronal para entrenar con los datos de MNIST y compara cómo cambian las curvas de entrenamiento dependiendo de factores como la inicialización y los algoritmos que utilices. Presenta al menos dos gráficos en donde compares. Por ejemplo, puedes presentar uno que para la misma estrategia de inicialización, los tres algoritmos de optimización para varias épocas y cómo evoluciona la pérdida y el acierto. En cada caso comenta que conclusiones puedes sacar. Algunos ejemplos de preguntas que podrías tratar de responder son:\n",
        "* ¿cómo afecta el algoritmo de optimización al tiempo de convergencia de la red para los datos de entrenamiento?\n",
        "* ¿cómo afecta el algoritmo de optimización en el acierto alcanzado por la red en los datos de prueba?\n",
        "* Si haces la parte opcional de Batch Normalization, puedes también preguntarte cosas como si aplicar, o no, BN afecta a todos los algoritmos de optimización por igual."
      ]
    },
    {
      "cell_type": "code",
      "metadata": {
        "id": "ccy31ejpWt3P"
      },
      "source": [
        "# Código de la Tarea 2 para graficar los resultados\n",
        "import matplotlib.pyplot as plt\n",
        "\n",
        "def plot_results_2(id1, id2, loss1, loss2, loss3, acc1,  acc2, acc3,\n",
        "                   opt_1=\"Optimizador 1\", opt_2=\"Optimizador 2\", \n",
        "                   opt_3=\"Optimizador 3\"):\n",
        "  f3 = plt.figure(id1)\n",
        "  ax1 = f3.add_subplot(111)\n",
        "  ax1.set_title(\"Loss Comparation\")    \n",
        "  ax1.set_xlabel('epochs')\n",
        "  ax1.set_ylabel('loss')\n",
        "  ax1.plot(loss1, c='r', label=opt_1)\n",
        "  ax1.plot(loss2, c='b', label=opt_2)\n",
        "  if loss3 is not None:\n",
        "    ax1.plot(loss3, c='g', label=opt_3)\n",
        "  ax1.legend()\n",
        "  \n",
        "  f3.show()\n",
        "\n",
        "  f4 = plt.figure(id2)\n",
        "  ax2 = f4.add_subplot(111)\n",
        "  ax2.set_title(\"Accuracy Comparation\")     \n",
        "  ax2.set_xlabel('epochs')\n",
        "  ax2.set_ylabel('acc')\n",
        "  ax2.plot(acc1, c='r', label=opt_1)\n",
        "  ax2.plot(acc2, c='b', label=opt_2)\n",
        "  if acc3 is not None:\n",
        "    ax2.plot(acc3, c='g', label=opt_3)\n",
        "  ax2.legend()\n",
        "  f4.show()\n",
        "\n"
      ],
      "execution_count": 12,
      "outputs": []
    },
    {
      "cell_type": "markdown",
      "metadata": {
        "id": "16CZjmm1rwrV"
      },
      "source": [
        "Primero entrenamos un mismo modelo con cada uno de los tres optimizadores a fin de poder compararlos:\n",
        "\n",
        "SGD"
      ]
    },
    {
      "cell_type": "code",
      "metadata": {
        "colab": {
          "base_uri": "https://localhost:8080/"
        },
        "id": "rgot0NspHo43",
        "outputId": "8d53e2ab-cfba-4163-e151-55e8032d2d7d"
      },
      "source": [
        "mnist_model_3 = FFNN(784, [1024, 2048, 512], [relu, relu, relu], 10, keep_prob=[1.0, 0.8, 0.8, 1.0])\n",
        "SGD_optimizer = SGD(mnist_model_3.parameters(), lr=1e-5)\n",
        "\n",
        "\n",
        "with torch.no_grad():\n",
        "  loss3, acc3 = entrenar_FFNN(mnist_model_3, mnist_train_dataset, SGD_optimizer, epochs = 70, batch_size=32, device='cuda', reports_every=3)\n"
      ],
      "execution_count": 19,
      "outputs": [
        {
          "output_type": "stream",
          "text": [
            "/usr/local/lib/python3.6/dist-packages/torch/nn/modules/container.py:434: UserWarning: Setting attributes on ParameterList is not supported.\n",
            "  warnings.warn(\"Setting attributes on ParameterList is not supported.\")\n"
          ],
          "name": "stderr"
        },
        {
          "output_type": "stream",
          "text": [
            "Epoch:069 Acc:99.79% Loss:0.0384 Tiempo/epoch:13.086s"
          ],
          "name": "stdout"
        }
      ]
    },
    {
      "cell_type": "markdown",
      "metadata": {
        "id": "E0TKiSCrr5P1"
      },
      "source": [
        "ADAM"
      ]
    },
    {
      "cell_type": "code",
      "metadata": {
        "colab": {
          "base_uri": "https://localhost:8080/"
        },
        "id": "o0YCAR4YjnG-",
        "outputId": "74a1cc40-8ba2-44d5-91a9-297ffb2c5c83"
      },
      "source": [
        "mnist_model_4 = FFNN(784, [1024, 2048, 512], [relu, relu, relu], 10, keep_prob=[1.0, 0.8, 0.8, 1.0])\n",
        "Adam_optimizer = Adam(mnist_model_4.parameters(), lr=0.001, epsilon=1e-8)\n",
        "\n",
        "with torch.no_grad():\n",
        "\n",
        "  loss4, acc4 = entrenar_FFNN(mnist_model_4, mnist_train_dataset, Adam_optimizer, epochs = 70, batch_size=32, device='cuda', reports_every=3)\n"
      ],
      "execution_count": 16,
      "outputs": [
        {
          "output_type": "stream",
          "text": [
            "/usr/local/lib/python3.6/dist-packages/torch/nn/modules/container.py:434: UserWarning: Setting attributes on ParameterList is not supported.\n",
            "  warnings.warn(\"Setting attributes on ParameterList is not supported.\")\n"
          ],
          "name": "stderr"
        },
        {
          "output_type": "stream",
          "text": [
            "Epoch:069 Acc:99.80% Loss:0.0362 Tiempo/epoch:15.774s"
          ],
          "name": "stdout"
        }
      ]
    },
    {
      "cell_type": "markdown",
      "metadata": {
        "id": "7z_fxSQmr6lq"
      },
      "source": [
        "RMSProp"
      ]
    },
    {
      "cell_type": "code",
      "metadata": {
        "colab": {
          "base_uri": "https://localhost:8080/"
        },
        "id": "2YoZeWzfjnfL",
        "outputId": "757f1808-8825-4b58-d4cb-d92404b452f9"
      },
      "source": [
        "mnist_model_5 = FFNN(784, [1024, 2048, 512], [relu, relu, relu], 10, keep_prob=[1.0, 0.8, 0.8, 1.0])\n",
        "RMSProp_optimizer = RMSProp(mnist_model_5.parameters(), lr=0.001, epsilon=1e-8)\n",
        "\n",
        "with torch.no_grad():\n",
        "  loss5, acc5 = entrenar_FFNN(mnist_model_5, mnist_train_dataset, RMSProp_optimizer, epochs = 70, batch_size=32, device='cuda', reports_every=3)\n"
      ],
      "execution_count": 17,
      "outputs": [
        {
          "output_type": "stream",
          "text": [
            "/usr/local/lib/python3.6/dist-packages/torch/nn/modules/container.py:434: UserWarning: Setting attributes on ParameterList is not supported.\n",
            "  warnings.warn(\"Setting attributes on ParameterList is not supported.\")\n"
          ],
          "name": "stderr"
        },
        {
          "output_type": "stream",
          "text": [
            "Epoch:069 Acc:98.04% Loss:0.3617 Tiempo/epoch:13.598s"
          ],
          "name": "stdout"
        }
      ]
    },
    {
      "cell_type": "code",
      "metadata": {
        "colab": {
          "base_uri": "https://localhost:8080/",
          "height": 573
        },
        "id": "NEuVVn2pDaw0",
        "outputId": "47d45802-f338-422b-8f19-39607be2830e"
      },
      "source": [
        "  plot_results_2(4, 5, loss3, loss4, loss5, acc3, acc4, acc5, \"SGD\", \"Adam\", \"RMSProp\")"
      ],
      "execution_count": 20,
      "outputs": [
        {
          "output_type": "display_data",
          "data": {
            "image/png": "[encoded data removed]",
            "text/plain": [
              "<Figure size 432x288 with 1 Axes>"
            ]
          },
          "metadata": {
            "tags": [],
            "needs_background": "light"
          }
        },
        {
          "output_type": "display_data",
          "data": {
            "image/png": "[encoded data removed]",
            "text/plain": [
              "<Figure size 432x288 with 1 Axes>"
            ]
          },
          "metadata": {
            "tags": [],
            "needs_background": "light"
          }
        }
      ]
    },
    {
      "cell_type": "markdown",
      "metadata": {
        "id": "jG3cvaaqOMpQ"
      },
      "source": [
        "Observación: el eje de las abscisas debe ser interpretado como n_real_epochs = epochs*3, pues se entrenó con reports_every = 3 para evitar esperas excesivamente largas y/o problemas de memoria."
      ]
    },
    {
      "cell_type": "markdown",
      "metadata": {
        "id": "RT2wiQgRp_43"
      },
      "source": [
        "En primer lugar es necesario mencionar que el valor que se escoja para el learning rate puede ser determinante en la superioridad de un optimizador sobre sus pares en los gráficos anteriores. Acá estudiaremos el caso con learning rate = 0.001 y notaremos que el optimizador con mejores resultados es Adam. Sin embargo, si se utilizan valores de learning rate más pequeños (como por ejemplo, 1e-5) se puede obtener que el mejor es SGD. En general, la elección de dicha variable debe realizarse de forma empírica y basándose en distintos factores, que incluyen el tiempo de entrenamiento necesario para alcanzar cierta precisión mínima (Véase https://medium.com/octavian-ai/which-optimizer-and-learning-rate-should-i-use-for-deep-learning-5acb418f9b2). Para esta parte, sin embargo, se escogió un valor que fuera relativamente bueno para todos los optimizadores, a fin de poder compararlos en condiciones lo más justas posibles."
      ]
    },
    {
      "cell_type": "code",
      "metadata": {
        "colab": {
          "base_uri": "https://localhost:8080/"
        },
        "id": "HLxQx39WBotO",
        "outputId": "b4905b89-2e04-4a9d-c3fb-9a2a5bd8a4b3"
      },
      "source": [
        "print(\"---==REPORTE MEJORES VALORES==---\")\n",
        "print(\"Mejor acierto con SGD: \" + str(max(acc3)))\n",
        "print(\"Mejor acierto con Adam: \" + str(max(acc4)))\n",
        "print(\"Mejor acierto con RMSProp: \" + str(max(acc5)))\n",
        "print(\"Mejor loss en test con SGD: \" + str(min(loss3)))\n",
        "print(\"Mejor loss en test con Adam: \" + str(min(loss4)))\n",
        "print(\"Mejor loss en test con RMSProp: \" + str(min(loss5)))\n",
        "\n",
        "print(\"\\n\\n---==REPORTE VALORES INICIALES==---\")\n",
        "print(\"Primer acierto con SGD: \" + str(acc3[0]))\n",
        "print(\"Primer acierto con Adam: \" + str(acc4[0]))\n",
        "print(\"Primer acierto con RMSProp: \" + str(acc5[0]))\n",
        "print(\"Primer loss en test con SGD: \" + str(loss3[0]))\n",
        "print(\"Primer loss en test con Adam: \" + str(loss4[0]))\n",
        "print(\"Primer loss en test con RMSProp: \" + str(loss5[0]))\n"
      ],
      "execution_count": 32,
      "outputs": [
        {
          "output_type": "stream",
          "text": [
            "---==REPORTE MEJORES VALORES==---\n",
            "Mejor acierto con SGD: 99.87333333333333\n",
            "Mejor acierto con Adam: 99.915\n",
            "Mejor acierto con RMSProp: 98.72333333333333\n",
            "Mejor loss en test con SGD: tensor(0.0233, device='cuda:0')\n",
            "Mejor loss en test con Adam: tensor(0.0157, device='cuda:0')\n",
            "Mejor loss en test con RMSProp: tensor(0.2352, device='cuda:0')\n",
            "\n",
            "\n",
            "---==REPORTE VALORES INICIALES==---\n",
            "Primer acierto con SGD: 93.95333333333333\n",
            "Primer acierto con Adam: 97.11166666666666\n",
            "Primer acierto con RMSProp: 95.87166666666667\n",
            "Primer loss en test con SGD: tensor(1.1138, device='cuda:0')\n",
            "Primer loss en test con Adam: tensor(0.5321, device='cuda:0')\n",
            "Primer loss en test con RMSProp: tensor(0.7605, device='cuda:0')\n"
          ],
          "name": "stdout"
        }
      ]
    },
    {
      "cell_type": "markdown",
      "metadata": {
        "id": "Q_1P9oofECZb"
      },
      "source": [
        ""
      ]
    },
    {
      "cell_type": "markdown",
      "metadata": {
        "id": "gFVw_hPEcgsP"
      },
      "source": [
        "Como introducimos en el párrafo anterior, los gráficos obtenidos nos permiten afirmar que para el problema tratado, la red implementada y los hiperparámetros asignados, los mejores resultados se obtienen a través del optimizador Adam. Las razones son varias:\n",
        "\n",
        "\n",
        "1.   El acierto comienza en valores considerablemente más altos que con sus pares RMSProp y SGD: 97.11% contra 93.95% y 95.87%, aproximadamente.\n",
        "2.   Similar al punto anterior, la pérdida comienza en valores más bajos que con sus pares: 0.53 contra 0.76 y 1.11, aproximadamente. \n",
        "3.   La convergencia con Adam es mucho más rápida que con su par más competente, SGD: mientras Adam alcanza un 99.80% de acierto en aproximadamente 30 épocas, SGD lo hace en más de 45.\n",
        "4.   Con RMSProp, por otra parte, no se supera el 98.73% de acierto (tras lo cual comienza el overfitting con una variación considerable entre cada reporte).\n",
        "5.  El mejor acierto alcanzado con Adam es mayor que el alcanzado con sus pares: 99.92% para Adam contra 99.87% y 98.72% para SGD y RMSProp, respectivamente.\n",
        "\n",
        "\n",
        "Por los puntos anteriores, la elección correcta pareciese evidente. Sin embargo, hay cierto detalle que puede agregarle complejidad: Si observamos con detención la curva de accuracy para la red con SGD, notaremos que se mantuvo creciente hasta el final del entrenamiento, mientras que la curva de Adam pareciese haber alcanzado un punto de no crecimiento hacia la mitad del entrenamiento, manteniéndose ahí por algunas épocas y luego haber comenzado a sufrir un leve overfitting. Esto nos lleva a formar el supuesto de que, probablemente, al aumentar aún más el número de épocas podría conseguirse un accuracy mayor al mejor encontrado con Adam mediante SGD. Sin embargo, ello tomaría mucho tiempo y recursos, dos factores que podríamos desear mantener relativamente bajos. \n",
        "\n",
        "Desde luego, el tiempo de convergencia y la fiabilidad de las predicciones en épocas tempranas son factores que podrían ser tanto o más determinantes en la elección de nuestro optimizador, y si con Adam estamos ganando eso y además llegando a un 99.92% de acierto en una cantidad reducida de épocas, podría no interesarnos demasiado conseguir (quizá) ese 0.08% restante mediante SGD.  Pero ello dependerá de la naturaleza misma del problema y lo que resulte más importante para el usuario: obtener valores relativamente confiables en tiempos reducidos, u obtener valores tan altos  como sea posible sin importar demasiado el tiempo que la red tarde en lograrlos. \n",
        "\n",
        "\n",
        "Lo anterior nos permite afirmar que, en general, la elección del optimizador a usar influirá ampliamente en el tiempo de convergencia de la red y el acierto alcanzado. La prueba más clara de lo primero es la diferencia entre Adam y SGD, mientras que para lo segundo basta comparar RMSProp con cualquiera de sus pares. Generalizar los resultados más allá (como por ejemplo, afirmando que Adam es el mejor de los 3 siempre) es algo arriesgado, pues hay una serie amplia de factores que pueden incidir en ello, incluida la naturaleza misma del problema y los hiperparámetros que se escojan, por lo cual nos limitaremos a concluir que, para el problema tratado en este apartado, es recomendable usar Adam por sobre SGD y RMSProp, en especial si interesa obtener un buen valor de acierto tempranamente (y no tanto llegar a un 100%, en cuyo caso recomendaríamos intentarlo con SGD y una gran cantidad de épocas ~100).\n",
        "\n",
        "\n",
        "Algo interesante que mencionamos rápidamente sobre la curva de Adam es el hecho de que el mejor acierto no se alcanza hacia el final del entrenamiento si no algunas épocas antes, momento a partir del cual no se vuelve a presentar. Esto no es una coincidencia, y lo veremos en la sección a continuación.\n",
        "\n",
        "\n",
        "\n",
        "\n",
        "Algunos artículos en los cuales nos basamos para formular las observaciones anteriores: \n",
        "1. https://shaoanlu.wordpress.com/2017/05/29/sgd-all-which-one-is-the-best-optimizer-dogs-vs-cats-toy-experiment/\n",
        "2. https://medium.com/syncedreview/iclr-2019-fast-as-adam-good-as-sgd-new-optimizer-has-both-78e37e8f9a34\n"
      ]
    },
    {
      "cell_type": "markdown",
      "metadata": {
        "id": "YWbCbZMinrGG"
      },
      "source": [
        "\n",
        "\n",
        "---\n",
        "\n"
      ]
    },
    {
      "cell_type": "markdown",
      "metadata": {
        "id": "E9cGBOjIu_cI"
      },
      "source": [
        "Nos interesará tambien comparar las estrategias de inicialización implementadas. En particular, compararemos los resultados en testing de inicializar una misma red con pesos aleatorios y con inicialización de Xavier-He, utilizando el mismo optimizador Adam que se encontró en la parte anterior."
      ]
    },
    {
      "cell_type": "code",
      "metadata": {
        "colab": {
          "base_uri": "https://localhost:8080/"
        },
        "id": "XUJSzt_AsyFL",
        "outputId": "b9579e2b-6d49-4969-bb1a-d5b856ef685f"
      },
      "source": [
        "mnist_model_6 = FFNN(784, [1024, 2048, 512], [relu, relu, relu], 10, keep_prob=[1.0, 0.8, 0.8, 1.0], init='xavier')\n",
        "Adam_optimizer = Adam(mnist_model_6.parameters(), lr=0.001, epsilon=1e-8)\n",
        "\n",
        "with torch.no_grad():\n",
        "  loss6, acc6 = entrenar_FFNN(mnist_model_6, mnist_train_dataset, Adam_optimizer, epochs = 45, batch_size=32, device='cuda', reports_every=3)\n"
      ],
      "execution_count": 21,
      "outputs": [
        {
          "output_type": "stream",
          "text": [
            "/usr/local/lib/python3.6/dist-packages/torch/nn/modules/container.py:434: UserWarning: Setting attributes on ParameterList is not supported.\n",
            "  warnings.warn(\"Setting attributes on ParameterList is not supported.\")\n"
          ],
          "name": "stderr"
        },
        {
          "output_type": "stream",
          "text": [
            "Epoch:045 Acc:99.47% Loss:0.0952 Tiempo/epoch:17.014s"
          ],
          "name": "stdout"
        }
      ]
    },
    {
      "cell_type": "code",
      "metadata": {
        "colab": {
          "base_uri": "https://localhost:8080/"
        },
        "id": "5mz0bznatZiZ",
        "outputId": "b3b2c017-6afd-4e7c-dc3e-8e5517c4f0d0"
      },
      "source": [
        "mnist_model_7 = FFNN(784, [1024, 2048, 512], [relu, relu, relu], 10, keep_prob=[1.0, 0.8, 0.8, 1.0])\n",
        "Adam_optimizer = Adam(mnist_model_7.parameters(), lr=0.001, epsilon=1e-8)\n",
        "\n",
        "with torch.no_grad():\n",
        "  loss7, acc7 = entrenar_FFNN(mnist_model_7, mnist_train_dataset, Adam_optimizer, epochs = 45, batch_size=32, device='cuda', reports_every=3)\n"
      ],
      "execution_count": 22,
      "outputs": [
        {
          "output_type": "stream",
          "text": [
            "/usr/local/lib/python3.6/dist-packages/torch/nn/modules/container.py:434: UserWarning: Setting attributes on ParameterList is not supported.\n",
            "  warnings.warn(\"Setting attributes on ParameterList is not supported.\")\n"
          ],
          "name": "stderr"
        },
        {
          "output_type": "stream",
          "text": [
            "Epoch:045 Acc:99.85% Loss:0.0276 Tiempo/epoch:16.659s"
          ],
          "name": "stdout"
        }
      ]
    },
    {
      "cell_type": "code",
      "metadata": {
        "colab": {
          "base_uri": "https://localhost:8080/",
          "height": 573
        },
        "id": "1nWesKTttokn",
        "outputId": "63fbcba2-e5a0-4ac7-8f03-36d4f87189fe"
      },
      "source": [
        "plot_results_2(6, 7, loss6, loss7, None, acc6, acc7, None, \"Init Xavier\", \"Init random\")"
      ],
      "execution_count": 27,
      "outputs": [
        {
          "output_type": "display_data",
          "data": {
            "image/png": "[encoded data removed]",
            "text/plain": [
              "<Figure size 432x288 with 1 Axes>"
            ]
          },
          "metadata": {
            "tags": [],
            "needs_background": "light"
          }
        },
        {
          "output_type": "display_data",
          "data": {
            "image/png": "[encoded data removed]",
            "text/plain": [
              "<Figure size 432x288 with 1 Axes>"
            ]
          },
          "metadata": {
            "tags": [],
            "needs_background": "light"
          }
        }
      ]
    },
    {
      "cell_type": "markdown",
      "metadata": {
        "id": "kgpbAGDfXJhk"
      },
      "source": [
        "Observamos que para una misma configuración de red y optimizador, la inicialización por el método de Xavier-He permite llegar a un acierto sobre el 99.75% en una cantidad de épocas menor a la necesaria cuando se usa una inicialización con valores aleatorios: mientras el primero lo logra entre las épocas 12 y 15, el segundo requiere de al menos 21 épocas para alcanzar dicho valor.  \n",
        "\n",
        "Notamos también que con la inicialización de Xavier-He la red entrega predicciones iniciales mucho mejores que aquellas obtenidas mediante la inicialización aleatoria: con el primer método, las predicciones comienzan en aproximadamente un 98% de acierto y con un 0.4 de pérdida, mientras que con inicialización aleatoria dichos valores se reemplazan por 97% y 0.6, correspondientemente. \n",
        "\n",
        "Una observación adicional que se desprende de los gráficos - y que guarda relación con el fenómeno que describíamos hacia el final de la sección anterior - es la importancia del early stopping. Si bien en la parte anterior la mayoría de las curvas tendian a un valor en el que permanecían casi estáticamente, notamos que tras cierto punto la curva de Adam no volvió a superar un máximo anterior. Esto se debe a que, frecuentemente, el continuar entrenando más allá de cierto punto da origen a una serie de cambios bruscos y desfavorables, conocidos como overfitting. Esto es particularmente notorio con las curvas de Loss y Accuracy obtenidas al utilizar la inicialización de Xavier-He, que tras alcanzar por primera vez un valor cercano a su máximo comienza a alternar entre valores levemente mayores y otros considerablemente menores en una especie de 'zig-zag'. En general buscaremos evitar esto, pues puede guiarnos a situaciones desfavorables: \n",
        "  1. Que el entrenamiento termine con el valor más bajo del zig-zag, quedándonos con una red que ''podría ser mejor''. \n",
        "  2. Que el zig-zag de origen a una caída irremediable en el acierto, lo cual se puede generar tras pasar por muchas épocas de overfitting (las pruebas con este problema mostraron que entrenar por más de 60 épocas entrega aciertos levemente mejores que un clasificador aleatorio, rondando el 15%). El problema acá es obvio: terminaríamos con una red prácticamente inútil."
      ]
    },
    {
      "cell_type": "markdown",
      "metadata": {
        "id": "0n29s-6zXDS1"
      },
      "source": [
        "# Parte 3 (Opcional): Batch Normalization"
      ]
    },
    {
      "cell_type": "code",
      "metadata": {
        "id": "ytN2y-FMXDS3"
      },
      "source": [
        "# Tu código debiera continuar como sigue\n",
        "\n",
        "class FFNN():\n",
        "  def __init__(self, F, l_h, l_a, C, keep_prob=None, bn=None):\n",
        "    # debes crear los parámetros necesarios para las capas de\n",
        "    # batch normalizacion\n",
        "    pass\n",
        "  \n",
        "  def forward(x, predict=False):\n",
        "    # debes modificar esta función para considerar las capas para las que se\n",
        "    # usará batch normalization\n",
        "    # también debes preocuparte de guardar los datos estadísticos que se\n",
        "    # usaran en tiempo de test (predict=True)\n",
        "    pass\n",
        "  \n",
        "  def backward(x,y,y_pred):\n",
        "    # computar acá todos los gradientes considerando las capas de \n",
        "    # batch normalization\n",
        "    # no olvides considerar los nuevos parámetros entrenables.\n",
        "    pass"
      ],
      "execution_count": null,
      "outputs": []
    }
  ]
}